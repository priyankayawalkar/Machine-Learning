{
 "cells": [
  {
   "cell_type": "markdown",
   "metadata": {},
   "source": [
    "# Heirarchical clustering"
   ]
  },
  {
   "cell_type": "markdown",
   "metadata": {},
   "source": [
    "# Dataset"
   ]
  },
  {
   "cell_type": "markdown",
   "metadata": {},
   "source": [
    "Dataset: Mall_Customers  \n",
    "there is mall in specific city that contains information of its clients.\n",
    "the clents that subscribe to the card. \n",
    "when client subscribe to the card,they provided their information like \n",
    "their gender,age,annual income. and because they have this card they use it to buy \n",
    "all sorts of things in the mall. and therefore the mall has to purchase \n",
    "history of each of its client member. according to history they obtained\n",
    "the last column which is spending score.\n",
    "spending score is a score that the amount computed for each of their clients and takes value between 1 and 100.\n"
   ]
  },
  {
   "cell_type": "markdown",
   "metadata": {},
   "source": [
    "# Clustering"
   ]
  },
  {
   "cell_type": "markdown",
   "metadata": {},
   "source": [
    "It is unsupervised learning method. Clusting is the task to divide \n",
    "the data points from population into groups.data points in the same groups are more similar to other data points in the same group and dissimilar to the data points in other groups.It is basically a collection of objects on the basis of similarity and dissimilarity between them."
   ]
  },
  {
   "cell_type": "code",
   "execution_count": 1,
   "metadata": {},
   "outputs": [],
   "source": [
    "#method of cluster analysis which seeks to build a hierarchy of clusters"
   ]
  },
  {
   "cell_type": "code",
   "execution_count": 2,
   "metadata": {},
   "outputs": [],
   "source": [
    "# Importing the libraries\n",
    "#numpy for mathematics\n",
    "import numpy as np\n",
    "#for plotting\n",
    "import matplotlib.pyplot as plt\n",
    "#import and manage datasets\n",
    "import pandas as pd"
   ]
  },
  {
   "cell_type": "code",
   "execution_count": 3,
   "metadata": {},
   "outputs": [
    {
     "data": {
      "text/html": [
       "<div>\n",
       "<style scoped>\n",
       "    .dataframe tbody tr th:only-of-type {\n",
       "        vertical-align: middle;\n",
       "    }\n",
       "\n",
       "    .dataframe tbody tr th {\n",
       "        vertical-align: top;\n",
       "    }\n",
       "\n",
       "    .dataframe thead th {\n",
       "        text-align: right;\n",
       "    }\n",
       "</style>\n",
       "<table border=\"1\" class=\"dataframe\">\n",
       "  <thead>\n",
       "    <tr style=\"text-align: right;\">\n",
       "      <th></th>\n",
       "      <th>CustomerID</th>\n",
       "      <th>Genre</th>\n",
       "      <th>Age</th>\n",
       "      <th>Annual Income (k$)</th>\n",
       "      <th>Spending Score (1-100)</th>\n",
       "    </tr>\n",
       "  </thead>\n",
       "  <tbody>\n",
       "    <tr>\n",
       "      <td>0</td>\n",
       "      <td>1</td>\n",
       "      <td>Male</td>\n",
       "      <td>19</td>\n",
       "      <td>15</td>\n",
       "      <td>39</td>\n",
       "    </tr>\n",
       "    <tr>\n",
       "      <td>1</td>\n",
       "      <td>2</td>\n",
       "      <td>Male</td>\n",
       "      <td>21</td>\n",
       "      <td>15</td>\n",
       "      <td>81</td>\n",
       "    </tr>\n",
       "    <tr>\n",
       "      <td>2</td>\n",
       "      <td>3</td>\n",
       "      <td>Female</td>\n",
       "      <td>20</td>\n",
       "      <td>16</td>\n",
       "      <td>6</td>\n",
       "    </tr>\n",
       "    <tr>\n",
       "      <td>3</td>\n",
       "      <td>4</td>\n",
       "      <td>Female</td>\n",
       "      <td>23</td>\n",
       "      <td>16</td>\n",
       "      <td>77</td>\n",
       "    </tr>\n",
       "    <tr>\n",
       "      <td>4</td>\n",
       "      <td>5</td>\n",
       "      <td>Female</td>\n",
       "      <td>31</td>\n",
       "      <td>17</td>\n",
       "      <td>40</td>\n",
       "    </tr>\n",
       "  </tbody>\n",
       "</table>\n",
       "</div>"
      ],
      "text/plain": [
       "   CustomerID   Genre  Age  Annual Income (k$)  Spending Score (1-100)\n",
       "0           1    Male   19                  15                      39\n",
       "1           2    Male   21                  15                      81\n",
       "2           3  Female   20                  16                       6\n",
       "3           4  Female   23                  16                      77\n",
       "4           5  Female   31                  17                      40"
      ]
     },
     "execution_count": 3,
     "metadata": {},
     "output_type": "execute_result"
    }
   ],
   "source": [
    "#importing dataset using pandas\n",
    "#Importing the dataset\n",
    "#pd as a dataframe\n",
    "dataset1 = pd.read_csv('Mall_Customers.csv')\n",
    "dataset1.head()"
   ]
  },
  {
   "cell_type": "code",
   "execution_count": 4,
   "metadata": {},
   "outputs": [],
   "source": [
    "#aim:Find unknown clusters of clients\n",
    "#3rd column:Annual Income 4th column:spending Score (1-100)\n",
    "V = dataset1.iloc[:, [3, 4]].values"
   ]
  },
  {
   "cell_type": "code",
   "execution_count": 6,
   "metadata": {},
   "outputs": [
    {
     "data": {
      "image/png": "[encoded data removed]",
      "text/plain": [
       "<Figure size 432x288 with 1 Axes>"
      ]
     },
     "metadata": {
      "needs_background": "light"
     },
     "output_type": "display_data"
    }
   ],
   "source": [
    "#using dendrogram to find optimal number of clusters\n",
    "#import scipy is open source python library that contains tool to do \n",
    "#heirarchical clustering and building programs.\n",
    "import scipy.cluster.hierarchy as sch\n",
    "#create variable dendogram\n",
    "#ward method tries to minimize the variance within each cluster\n",
    "dendrogram = sch.dendrogram(sch.linkage(V, method = 'ward'))\n",
    "plt.title('dendrogram')\n",
    "plt.xlabel('customers')\n",
    "plt.ylabel('Euclidean distances')\n",
    "plt.show()"
   ]
  },
  {
   "cell_type": "markdown",
   "metadata": {},
   "source": [
    "on x axis, all are customers and y axis, euclidean distances \n",
    "between clusters. plot represents all the diffrent clusters \n",
    "that were found during all the hierarchical clustering process"
   ]
  },
  {
   "cell_type": "code",
   "execution_count": 7,
   "metadata": {},
   "outputs": [
    {
     "data": {
      "text/plain": [
       "array([4, 3, 4, 3, 4, 3, 4, 3, 4, 3, 4, 3, 4, 3, 4, 3, 4, 3, 4, 3, 4, 3,\n",
       "       4, 3, 4, 3, 4, 3, 4, 3, 4, 3, 4, 3, 4, 3, 4, 3, 4, 3, 4, 3, 4, 1,\n",
       "       4, 1, 1, 1, 1, 1, 1, 1, 1, 1, 1, 1, 1, 1, 1, 1, 1, 1, 1, 1, 1, 1,\n",
       "       1, 1, 1, 1, 1, 1, 1, 1, 1, 1, 1, 1, 1, 1, 1, 1, 1, 1, 1, 1, 1, 1,\n",
       "       1, 1, 1, 1, 1, 1, 1, 1, 1, 1, 1, 1, 1, 1, 1, 1, 1, 1, 1, 1, 1, 1,\n",
       "       1, 1, 1, 1, 1, 1, 1, 1, 1, 1, 1, 1, 1, 2, 1, 2, 1, 2, 0, 2, 0, 2,\n",
       "       1, 2, 0, 2, 0, 2, 0, 2, 0, 2, 1, 2, 0, 2, 1, 2, 0, 2, 0, 2, 0, 2,\n",
       "       0, 2, 0, 2, 0, 2, 1, 2, 0, 2, 0, 2, 0, 2, 0, 2, 0, 2, 0, 2, 0, 2,\n",
       "       0, 2, 0, 2, 0, 2, 0, 2, 0, 2, 0, 2, 0, 2, 0, 2, 0, 2, 0, 2, 0, 2,\n",
       "       0, 2], dtype=int64)"
      ]
     },
     "execution_count": 7,
     "metadata": {},
     "output_type": "execute_result"
    }
   ],
   "source": [
    "#fitting hierarchical clustering to the dataset1\n",
    "#two types:\n",
    "#1.agglomerated hierarchical clustering\n",
    "#bottom up approach:each observation starts in its own cluster, \n",
    "#and pairs of clusters are merged as one moves up the hierarchy\n",
    "\n",
    "#2.divisive hierarchical clustering\n",
    "#top-down approach: all observations start in one cluster,\n",
    "#and splits are performed recursively as one moves down the hierarchy\n",
    "\n",
    "from sklearn.cluster import AgglomerativeClustering\n",
    "#n_clusters: number of clusters\n",
    "#affinity: distance between the linkage by euclidean distance\n",
    "#ward: trying to minimize variance in each cluster\n",
    "hc = AgglomerativeClustering(n_clusters = 5, affinity = 'euclidean',linkage = 'ward')\n",
    "y_hc = hc.fit_predict(V)\n",
    "y_hc"
   ]
  },
  {
   "cell_type": "code",
   "execution_count": 8,
   "metadata": {},
   "outputs": [
    {
     "data": {
      "image/png": "[encoded data removed]",
      "text/plain": [
       "<Figure size 432x288 with 1 Axes>"
      ]
     },
     "metadata": {
      "needs_background": "light"
     },
     "output_type": "display_data"
    }
   ],
   "source": [
    "#visualizing the clusters\n",
    "#visualizing the cluster\n",
    "#x and y coordinate, size of data points, color\n",
    "\n",
    "plt.scatter(V[y_hc == 0, 0], V[y_hc == 0, 1], s = 100, c = 'red',  label = 'cluster 1') \n",
    "plt.scatter(V[y_hc == 1, 0], V[y_hc == 1, 1], s = 100, c = 'blue',  label = 'cluster 2') \n",
    "plt.scatter(V[y_hc == 2, 0], V[y_hc == 2, 1], s = 100, c = 'green',  label = 'cluster 3') \n",
    "plt.scatter(V[y_hc == 3, 0], V[y_hc == 3, 1], s = 100, c = 'cyan',  label = 'cluster 4') \n",
    "plt.scatter(V[y_hc == 4, 0], V[y_hc == 4, 1], s = 100, c = 'magenta',  label = 'cluster 5')\n",
    "plt.scatter(V[y_hc == 5, 0], V[y_hc == 5, 1], s = 100, c = 'orange',  label = 'cluster 6')\n",
    "\n",
    "plt.title('Clusters of customers')\n",
    "plt.xlabel('Annual Income (k$)')\n",
    "plt.ylabel('Spending Score (1-100)')\n",
    "plt.legend()\n",
    "plt.show()"
   ]
  },
  {
   "cell_type": "code",
   "execution_count": null,
   "metadata": {},
   "outputs": [],
   "source": []
  }
 ],
 "metadata": {
  "kernelspec": {
   "display_name": "Python 3",
   "language": "python",
   "name": "python3"
  },
  "language_info": {
   "codemirror_mode": {
    "name": "ipython",
    "version": 3
   },
   "file_extension": ".py",
   "mimetype": "text/x-python",
   "name": "python",
   "nbconvert_exporter": "python",
   "pygments_lexer": "ipython3",
   "version": "3.7.4"
  }
 },
 "nbformat": 4,
 "nbformat_minor": 2
}
