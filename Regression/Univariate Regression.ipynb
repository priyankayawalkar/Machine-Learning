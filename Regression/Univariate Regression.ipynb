{
 "cells": [
  {
   "cell_type": "markdown",
   "metadata": {},
   "source": [
    "# Univariate Regression\n"
   ]
  },
  {
   "cell_type": "code",
   "execution_count": 1,
   "metadata": {},
   "outputs": [],
   "source": [
    "import numpy as np\n",
    "import pandas as pd\n",
    "import matplotlib.pyplot as plt\n",
    "%matplotlib inline\n"
   ]
  },
  {
   "cell_type": "code",
   "execution_count": 2,
   "metadata": {},
   "outputs": [
    {
     "data": {
      "text/html": [
       "<div>\n",
       "<style scoped>\n",
       "    .dataframe tbody tr th:only-of-type {\n",
       "        vertical-align: middle;\n",
       "    }\n",
       "\n",
       "    .dataframe tbody tr th {\n",
       "        vertical-align: top;\n",
       "    }\n",
       "\n",
       "    .dataframe thead th {\n",
       "        text-align: right;\n",
       "    }\n",
       "</style>\n",
       "<table border=\"1\" class=\"dataframe\">\n",
       "  <thead>\n",
       "    <tr style=\"text-align: right;\">\n",
       "      <th></th>\n",
       "      <th>Price</th>\n",
       "      <th>sqft</th>\n",
       "    </tr>\n",
       "  </thead>\n",
       "  <tbody>\n",
       "    <tr>\n",
       "      <td>0</td>\n",
       "      <td>13.5</td>\n",
       "      <td>500</td>\n",
       "    </tr>\n",
       "    <tr>\n",
       "      <td>1</td>\n",
       "      <td>14.0</td>\n",
       "      <td>510</td>\n",
       "    </tr>\n",
       "    <tr>\n",
       "      <td>2</td>\n",
       "      <td>14.1</td>\n",
       "      <td>512</td>\n",
       "    </tr>\n",
       "    <tr>\n",
       "      <td>3</td>\n",
       "      <td>14.8</td>\n",
       "      <td>520</td>\n",
       "    </tr>\n",
       "    <tr>\n",
       "      <td>4</td>\n",
       "      <td>15.1</td>\n",
       "      <td>530</td>\n",
       "    </tr>\n",
       "  </tbody>\n",
       "</table>\n",
       "</div>"
      ],
      "text/plain": [
       "   Price  sqft\n",
       "0   13.5   500\n",
       "1   14.0   510\n",
       "2   14.1   512\n",
       "3   14.8   520\n",
       "4   15.1   530"
      ]
     },
     "execution_count": 2,
     "metadata": {},
     "output_type": "execute_result"
    }
   ],
   "source": [
    "#reading the dataset\n",
    "raw_data = pd.read_csv(\"housing_price_prediction.csv\")\n",
    "raw_data.head()"
   ]
  },
  {
   "cell_type": "code",
   "execution_count": 3,
   "metadata": {},
   "outputs": [
    {
     "data": {
      "text/html": [
       "<div>\n",
       "<style scoped>\n",
       "    .dataframe tbody tr th:only-of-type {\n",
       "        vertical-align: middle;\n",
       "    }\n",
       "\n",
       "    .dataframe tbody tr th {\n",
       "        vertical-align: top;\n",
       "    }\n",
       "\n",
       "    .dataframe thead th {\n",
       "        text-align: right;\n",
       "    }\n",
       "</style>\n",
       "<table border=\"1\" class=\"dataframe\">\n",
       "  <thead>\n",
       "    <tr style=\"text-align: right;\">\n",
       "      <th></th>\n",
       "      <th>Price</th>\n",
       "      <th>sqft</th>\n",
       "    </tr>\n",
       "  </thead>\n",
       "  <tbody>\n",
       "    <tr>\n",
       "      <td>count</td>\n",
       "      <td>209.000000</td>\n",
       "      <td>209.000000</td>\n",
       "    </tr>\n",
       "    <tr>\n",
       "      <td>mean</td>\n",
       "      <td>23.866411</td>\n",
       "      <td>906.947368</td>\n",
       "    </tr>\n",
       "    <tr>\n",
       "      <td>std</td>\n",
       "      <td>6.060221</td>\n",
       "      <td>265.128710</td>\n",
       "    </tr>\n",
       "    <tr>\n",
       "      <td>min</td>\n",
       "      <td>13.500000</td>\n",
       "      <td>500.000000</td>\n",
       "    </tr>\n",
       "    <tr>\n",
       "      <td>25%</td>\n",
       "      <td>17.880000</td>\n",
       "      <td>682.000000</td>\n",
       "    </tr>\n",
       "    <tr>\n",
       "      <td>50%</td>\n",
       "      <td>24.800000</td>\n",
       "      <td>880.000000</td>\n",
       "    </tr>\n",
       "    <tr>\n",
       "      <td>75%</td>\n",
       "      <td>29.400000</td>\n",
       "      <td>1140.000000</td>\n",
       "    </tr>\n",
       "    <tr>\n",
       "      <td>max</td>\n",
       "      <td>33.000000</td>\n",
       "      <td>1398.000000</td>\n",
       "    </tr>\n",
       "  </tbody>\n",
       "</table>\n",
       "</div>"
      ],
      "text/plain": [
       "            Price         sqft\n",
       "count  209.000000   209.000000\n",
       "mean    23.866411   906.947368\n",
       "std      6.060221   265.128710\n",
       "min     13.500000   500.000000\n",
       "25%     17.880000   682.000000\n",
       "50%     24.800000   880.000000\n",
       "75%     29.400000  1140.000000\n",
       "max     33.000000  1398.000000"
      ]
     },
     "execution_count": 3,
     "metadata": {},
     "output_type": "execute_result"
    }
   ],
   "source": [
    "raw_data.describe()\n"
   ]
  },
  {
   "cell_type": "code",
   "execution_count": 4,
   "metadata": {},
   "outputs": [
    {
     "data": {
      "text/plain": [
       "<matplotlib.axes._subplots.AxesSubplot at 0x12adb6faf48>"
      ]
     },
     "execution_count": 4,
     "metadata": {},
     "output_type": "execute_result"
    },
    {
     "data": {
      "image/png": "[encoded data removed]",
      "text/plain": [
       "<Figure size 720x360 with 1 Axes>"
      ]
     },
     "metadata": {
      "needs_background": "light"
     },
     "output_type": "display_data"
    }
   ],
   "source": [
    "#plotting the data\n",
    "raw_data.plot(kind='scatter',x='sqft',y='Price',figsize=(10,5))"
   ]
  },
  {
   "cell_type": "code",
   "execution_count": 5,
   "metadata": {},
   "outputs": [
    {
     "data": {
      "text/html": [
       "<div>\n",
       "<style scoped>\n",
       "    .dataframe tbody tr th:only-of-type {\n",
       "        vertical-align: middle;\n",
       "    }\n",
       "\n",
       "    .dataframe tbody tr th {\n",
       "        vertical-align: top;\n",
       "    }\n",
       "\n",
       "    .dataframe thead th {\n",
       "        text-align: right;\n",
       "    }\n",
       "</style>\n",
       "<table border=\"1\" class=\"dataframe\">\n",
       "  <thead>\n",
       "    <tr style=\"text-align: right;\">\n",
       "      <th></th>\n",
       "      <th>Price</th>\n",
       "      <th>sqft</th>\n",
       "    </tr>\n",
       "  </thead>\n",
       "  <tbody>\n",
       "    <tr>\n",
       "      <td>0</td>\n",
       "      <td>-0.531611</td>\n",
       "      <td>-0.453171</td>\n",
       "    </tr>\n",
       "    <tr>\n",
       "      <td>1</td>\n",
       "      <td>-0.505970</td>\n",
       "      <td>-0.442035</td>\n",
       "    </tr>\n",
       "    <tr>\n",
       "      <td>2</td>\n",
       "      <td>-0.500842</td>\n",
       "      <td>-0.439808</td>\n",
       "    </tr>\n",
       "    <tr>\n",
       "      <td>3</td>\n",
       "      <td>-0.464944</td>\n",
       "      <td>-0.430899</td>\n",
       "    </tr>\n",
       "    <tr>\n",
       "      <td>4</td>\n",
       "      <td>-0.449560</td>\n",
       "      <td>-0.419763</td>\n",
       "    </tr>\n",
       "  </tbody>\n",
       "</table>\n",
       "</div>"
      ],
      "text/plain": [
       "      Price      sqft\n",
       "0 -0.531611 -0.453171\n",
       "1 -0.505970 -0.442035\n",
       "2 -0.500842 -0.439808\n",
       "3 -0.464944 -0.430899\n",
       "4 -0.449560 -0.419763"
      ]
     },
     "execution_count": 5,
     "metadata": {},
     "output_type": "execute_result"
    }
   ],
   "source": [
    "##normalizing the data values\n",
    "data=(raw_data-raw_data.mean())/(raw_data.max()-raw_data.min())\n",
    "data.head()"
   ]
  },
  {
   "cell_type": "code",
   "execution_count": 6,
   "metadata": {},
   "outputs": [
    {
     "data": {
      "text/plain": [
       "<matplotlib.axes._subplots.AxesSubplot at 0x12adba7fb48>"
      ]
     },
     "execution_count": 6,
     "metadata": {},
     "output_type": "execute_result"
    },
    {
     "data": {
      "image/png": "[encoded data removed]",
      "text/plain": [
       "<Figure size 720x360 with 1 Axes>"
      ]
     },
     "metadata": {
      "needs_background": "light"
     },
     "output_type": "display_data"
    }
   ],
   "source": [
    "#after normalizing visualizing the data\n",
    "data.plot(kind='scatter',x='sqft',y='Price',figsize=(10,5))"
   ]
  },
  {
   "cell_type": "code",
   "execution_count": 7,
   "metadata": {},
   "outputs": [
    {
     "data": {
      "text/plain": [
       "(209, 2)"
      ]
     },
     "execution_count": 7,
     "metadata": {},
     "output_type": "execute_result"
    }
   ],
   "source": [
    "#shows rows and columns in the data set\n",
    "data.shape"
   ]
  },
  {
   "cell_type": "code",
   "execution_count": 8,
   "metadata": {},
   "outputs": [
    {
     "data": {
      "text/html": [
       "<div>\n",
       "<style scoped>\n",
       "    .dataframe tbody tr th:only-of-type {\n",
       "        vertical-align: middle;\n",
       "    }\n",
       "\n",
       "    .dataframe tbody tr th {\n",
       "        vertical-align: top;\n",
       "    }\n",
       "\n",
       "    .dataframe thead th {\n",
       "        text-align: right;\n",
       "    }\n",
       "</style>\n",
       "<table border=\"1\" class=\"dataframe\">\n",
       "  <thead>\n",
       "    <tr style=\"text-align: right;\">\n",
       "      <th></th>\n",
       "      <th>Ones</th>\n",
       "      <th>Price</th>\n",
       "      <th>sqft</th>\n",
       "    </tr>\n",
       "  </thead>\n",
       "  <tbody>\n",
       "    <tr>\n",
       "      <td>0</td>\n",
       "      <td>1</td>\n",
       "      <td>-0.531611</td>\n",
       "      <td>-0.453171</td>\n",
       "    </tr>\n",
       "    <tr>\n",
       "      <td>1</td>\n",
       "      <td>1</td>\n",
       "      <td>-0.505970</td>\n",
       "      <td>-0.442035</td>\n",
       "    </tr>\n",
       "    <tr>\n",
       "      <td>2</td>\n",
       "      <td>1</td>\n",
       "      <td>-0.500842</td>\n",
       "      <td>-0.439808</td>\n",
       "    </tr>\n",
       "    <tr>\n",
       "      <td>3</td>\n",
       "      <td>1</td>\n",
       "      <td>-0.464944</td>\n",
       "      <td>-0.430899</td>\n",
       "    </tr>\n",
       "    <tr>\n",
       "      <td>4</td>\n",
       "      <td>1</td>\n",
       "      <td>-0.449560</td>\n",
       "      <td>-0.419763</td>\n",
       "    </tr>\n",
       "  </tbody>\n",
       "</table>\n",
       "</div>"
      ],
      "text/plain": [
       "   Ones     Price      sqft\n",
       "0     1 -0.531611 -0.453171\n",
       "1     1 -0.505970 -0.442035\n",
       "2     1 -0.500842 -0.439808\n",
       "3     1 -0.464944 -0.430899\n",
       "4     1 -0.449560 -0.419763"
      ]
     },
     "execution_count": 8,
     "metadata": {},
     "output_type": "execute_result"
    }
   ],
   "source": [
    "#inserting the bias value for each value in data set\n",
    "data.insert(0,'Ones',1)\n",
    "data.head()"
   ]
  },
  {
   "cell_type": "code",
   "execution_count": 9,
   "metadata": {},
   "outputs": [
    {
     "name": "stdout",
     "output_type": "stream",
     "text": [
      "3\n"
     ]
    }
   ],
   "source": [
    "cols=data.shape[1]\n",
    "print(cols)\n"
   ]
  },
  {
   "cell_type": "code",
   "execution_count": 10,
   "metadata": {},
   "outputs": [],
   "source": [
    "#separating the input from data set\n",
    "x = data.iloc[:,0:cols-1]\n",
    "#separating the output from data set\n",
    "y = data.iloc[:,cols-1:cols]"
   ]
  },
  {
   "cell_type": "code",
   "execution_count": 11,
   "metadata": {},
   "outputs": [],
   "source": [
    "#converting into matrix form of input\n",
    "#converting into matrix form of output\n",
    "x = np.matrix(x)\n",
    "y = np.matrix(y)\n",
    "theta = np.matrix(np.array([0,0]))\n"
   ]
  },
  {
   "cell_type": "code",
   "execution_count": 12,
   "metadata": {},
   "outputs": [
    {
     "data": {
      "text/plain": [
       "((209, 2), (1, 2), (209, 1))"
      ]
     },
     "execution_count": 12,
     "metadata": {},
     "output_type": "execute_result"
    }
   ],
   "source": [
    "#shape of the data\n",
    "x.shape,theta.shape,y.shape"
   ]
  },
  {
   "cell_type": "code",
   "execution_count": 14,
   "metadata": {},
   "outputs": [],
   "source": [
    "def computeError(x,y,theta):\n",
    "    inner = np.power(((x * theta.T)-y),2)\n",
    "    return np.sum(inner)/(2 * len(x))"
   ]
  },
  {
   "cell_type": "code",
   "execution_count": 15,
   "metadata": {},
   "outputs": [
    {
     "data": {
      "text/plain": [
       "0.043375839861990395"
      ]
     },
     "execution_count": 15,
     "metadata": {},
     "output_type": "execute_result"
    }
   ],
   "source": [
    "computeError(x,y,theta)"
   ]
  },
  {
   "cell_type": "code",
   "execution_count": 16,
   "metadata": {},
   "outputs": [],
   "source": [
    "#for changing the learning rate value\n",
    "Learn_rate=1\n",
    "iters=10000\n",
    "def gradientDescent(x,y,theta,Learn_rate,iters):\n",
    "        temp = np.matrix(np.zeros(theta.shape))\n",
    "        parameters=int(theta.ravel().shape[1])\n",
    "        cost=np.zeros(iters)\n",
    "        for i in range(iters):\n",
    "            error = (x*theta.T)-y\n",
    "            for j in range(parameters):\n",
    "                term=np.multiply(error,x[:,j])\n",
    "                temp[0,j]=theta[0,j]-((Learn_rate/len(x))*np.sum(term))\n",
    "            theta = temp\n",
    "        cost[i] = computeError(x,y,theta)\n",
    "        return theta,cost\n"
   ]
  },
  {
   "cell_type": "code",
   "execution_count": 17,
   "metadata": {},
   "outputs": [
    {
     "name": "stdout",
     "output_type": "stream",
     "text": [
      "[[4.16997643e-16 9.33450899e-01]] [0.         0.         0.         ... 0.         0.         0.00149863]\n"
     ]
    }
   ],
   "source": [
    "#for reducing the error\n",
    "new_theta,cost = gradientDescent(x,y,theta,Learn_rate,iters)\n",
    "print(new_theta,cost)\n"
   ]
  },
  {
   "cell_type": "code",
   "execution_count": 18,
   "metadata": {},
   "outputs": [
    {
     "data": {
      "text/plain": [
       "0.0014986278721006638"
      ]
     },
     "execution_count": 18,
     "metadata": {},
     "output_type": "execute_result"
    }
   ],
   "source": [
    "#compute error after gradient descent\n",
    "computeError(x,y,new_theta)"
   ]
  },
  {
   "cell_type": "code",
   "execution_count": 21,
   "metadata": {},
   "outputs": [
    {
     "name": "stdout",
     "output_type": "stream",
     "text": [
      "0    -0.453171\n",
      "1    -0.442035\n",
      "2    -0.439808\n",
      "3    -0.430899\n",
      "4    -0.419763\n",
      "5    -0.408627\n",
      "6    -0.397492\n",
      "7    -0.453171\n",
      "8    -0.442035\n",
      "9    -0.442035\n",
      "10   -0.436467\n",
      "11   -0.425331\n",
      "12   -0.414195\n",
      "13   -0.403059\n",
      "14   -0.407514\n",
      "15   -0.408627\n",
      "16   -0.386356\n",
      "17   -0.369652\n",
      "18   -0.358516\n",
      "19   -0.364084\n",
      "Name: sqft, dtype: float64\n"
     ]
    }
   ],
   "source": [
    "x=data.sqft\n",
    "print(x[:20])"
   ]
  },
  {
   "cell_type": "code",
   "execution_count": 22,
   "metadata": {},
   "outputs": [],
   "source": [
    "#predicting the model\n",
    "Model_sq_ft = new_theta[0,0] + (new_theta[0,1]*x)"
   ]
  },
  {
   "cell_type": "code",
   "execution_count": 23,
   "metadata": {},
   "outputs": [
    {
     "data": {
      "text/plain": [
       "Text(0.5, 1.0, 'Predicted Size vs. Price')"
      ]
     },
     "execution_count": 23,
     "metadata": {},
     "output_type": "execute_result"
    },
    {
     "data": {
      "image/png": "[encoded data removed]",
      "text/plain": [
       "<Figure size 864x576 with 1 Axes>"
      ]
     },
     "metadata": {
      "needs_background": "light"
     },
     "output_type": "display_data"
    }
   ],
   "source": [
    "#plotting the model\n",
    "fig,ax = plt.subplots(figsize=(12,8))\n",
    "ax.plot(x,Model_sq_ft,'r',label='Prediction')\n",
    "ax.scatter(data.Price,data.sqft,label='Training Data')\n",
    "ax.legend(loc=2)\n",
    "ax.set_xlabel('Price')\n",
    "ax.set_ylabel('SQ_ft')\n",
    "ax.set_title('Predicted Size vs. Price')\n"
   ]
  },
  {
   "cell_type": "code",
   "execution_count": 24,
   "metadata": {},
   "outputs": [
    {
     "data": {
      "text/plain": [
       "Text(0.5, 1.0, 'Error vs iterations')"
      ]
     },
     "execution_count": 24,
     "metadata": {},
     "output_type": "execute_result"
    },
    {
     "data": {
      "image/png": "[encoded data removed]",
      "text/plain": [
       "<Figure size 864x576 with 1 Axes>"
      ]
     },
     "metadata": {
      "needs_background": "light"
     },
     "output_type": "display_data"
    }
   ],
   "source": [
    "fig,ax = plt.subplots(figsize=(12,8))\n",
    "ax.plot(np.arange(iters),cost,'r')\n",
    "ax.set_xlabel('iterations')\n",
    "ax.set_ylabel('cost')\n",
    "ax.set_title('Error vs iterations')\n"
   ]
  },
  {
   "cell_type": "code",
   "execution_count": 25,
   "metadata": {},
   "outputs": [
    {
     "name": "stdout",
     "output_type": "stream",
     "text": [
      "error % = 0.03842043494870075\n",
      "accuracy %=99.9615795650513\n"
     ]
    }
   ],
   "source": [
    "import math\n",
    "erro_r = [np.power((b-a),2) for (a,b) in zip(Model_sq_ft,y)]\n",
    "error0 =np.sum(erro_r)\n",
    "error=(error0/len(y))*100\n",
    "print(\"error % = {}\".format(error))\n",
    "accuracy=100-error\n",
    "print(\"accuracy %={}\".format(accuracy))"
   ]
  },
  {
   "cell_type": "code",
   "execution_count": 26,
   "metadata": {},
   "outputs": [],
   "source": [
    "def predict(new_theta,accuracy):\n",
    "    Price=float(input(\"Enter the price of the house:\"))\n",
    "    Price=(Price - raw_data.Price.mean())/(raw_data.Price.max() - raw_data.Price.min())\n",
    "    sqft=(new_theta[0,0]+(new_theta[0,1]*Price))\n",
    "    Predicted_sqft = (sqft*(raw_data.sqft.max()-raw_data.sqft.min())) + (raw_data.sqft.mean())\n",
    "    sqft_at_max_Accuracy = (Predicted_sqft * (1/accuracy) * 100)\n",
    "    sqft_range = sqft_at_max_Accuracy - Predicted_sqft\n",
    "    return Predicted_sqft,sqft_range"
   ]
  },
  {
   "cell_type": "code",
   "execution_count": 27,
   "metadata": {},
   "outputs": [
    {
     "name": "stdout",
     "output_type": "stream",
     "text": [
      "Enter the price of the house:30\n",
      "your house sqft is:1170.609549793559(+ or -)0.449926144163328\n"
     ]
    }
   ],
   "source": [
    "Predicted_sqft,sqft_range=predict(new_theta,accuracy)\n",
    "print('your house sqft is:'+str(Predicted_sqft)+ '(+ or -)' +str(sqft_range))"
   ]
  }
 ],
 "metadata": {
  "kernelspec": {
   "display_name": "Python 3",
   "language": "python",
   "name": "python3"
  },
  "language_info": {
   "codemirror_mode": {
    "name": "ipython",
    "version": 3
   },
   "file_extension": ".py",
   "mimetype": "text/x-python",
   "name": "python",
   "nbconvert_exporter": "python",
   "pygments_lexer": "ipython3",
   "version": "3.7.4"
  }
 },
 "nbformat": 4,
 "nbformat_minor": 2
}
